{
  "nbformat": 4,
  "nbformat_minor": 0,
  "metadata": {
    "colab": {
      "name": "spec_morph_filter.ipynb",
      "provenance": [],
      "collapsed_sections": [],
      "authorship_tag": "ABX9TyOJy0pAeQEEgI+wu455YjTP",
      "include_colab_link": true
    },
    "kernelspec": {
      "display_name": "Python 3",
      "name": "python3"
    },
    "language_info": {
      "name": "python"
    }
  },
  "cells": [
    {
      "cell_type": "markdown",
      "metadata": {
        "id": "view-in-github",
        "colab_type": "text"
      },
      "source": [
        "<a href=\"https://colab.research.google.com/github/joeljose/audio_denoising/blob/main/spec_morph_filter.ipynb\" target=\"_parent\"><img src=\"https://colab.research.google.com/assets/colab-badge.svg\" alt=\"Open In Colab\"/></a>"
      ]
    },
    {
      "cell_type": "markdown",
      "metadata": {
        "id": "-hQPeQwLCGY0"
      },
      "source": [
        "#Noise Compensation using Spectrogram Morphological Filtering\n",
        "In this project we try out image based morphological filtering to audio spectrograms for removing noise from audio signals. Regions of the spectrogram having high energy are estimated to be of more importance and likely to contain the original audio signal. The process of erosion can remove noise while dilation can then restore any erroneously removed signal regions. The combination of the two techniques results\n",
        "in a non-linear, time-frequency filter. We then recreate the denoised audio from the processed spectrogram."
      ]
    },
    {
      "cell_type": "markdown",
      "metadata": {
        "id": "6Pc5-vaRsIZj"
      },
      "source": [
        "## Importing all the essential modules:"
      ]
    },
    {
      "cell_type": "code",
      "metadata": {
        "id": "6xbPX_osPYyG"
      },
      "source": [
        "from scipy.ndimage import binary_erosion\n",
        "from scipy.ndimage import binary_dilation\n",
        "from scipy.io import wavfile\n",
        "import scipy.signal as signal\n",
        "import numpy as np\n",
        "import matplotlib.pyplot as plt\n",
        "from IPython.display import Audio\n",
        "import librosa\n",
        "import soundfile as sf\n"
      ],
      "execution_count": null,
      "outputs": []
    },
    {
      "cell_type": "markdown",
      "metadata": {
        "id": "9GxGMfT6FrPd"
      },
      "source": [
        "## Creating a noisy audio signal\n",
        "First off let's create an audio signal with 3 musical tones.\n",
        " "
      ]
    },
    {
      "cell_type": "code",
      "metadata": {
        "id": "HpDopRBDwg7x"
      },
      "source": [
        "fs=10000                                          # sampling frequency in Hz\n",
        "notes=[837.31,1939.85,1054.94,1939.85,837.31]     # note frequencies in Hz\n",
        "note_interval= 1                                  # duration of each note in seconds\n",
        "song_time=len(notes)*note_interval                # Total duration of the song\n",
        "\n",
        "\n",
        "dt=1/fs\n",
        "t=np.arange(0,note_interval,dt)\n",
        "new_t=np.arange(0,song_time,dt)\n",
        "\n",
        "tones=[]\n",
        "\n",
        "for fund_freq in notes:\n",
        "  tones.append(np.sin(2 * np.pi * fund_freq * t)) # each note is a sine wave \n",
        "\n",
        "song = np.concatenate(tones)                      # add up all the notes to get our song\n",
        "\n"
      ],
      "execution_count": null,
      "outputs": []
    },
    {
      "cell_type": "markdown",
      "metadata": {
        "id": "-kULSzZb7x3x"
      },
      "source": [
        "Now let's add some noise to the song we created"
      ]
    },
    {
      "cell_type": "code",
      "metadata": {
        "id": "Q3BfRwIcGnCw"
      },
      "source": [
        "# creating a noise with the same dimension as input signal \n",
        "\n",
        "mu, sigma = 0.5, 1                               # mean and standard deviation of noise signal\n",
        "noise = np.random.normal(mu, sigma, song.shape)  # generate noise signal using random function\n",
        "\n",
        "noisy_song = song + noise                        # add the noise to the song to get noisy song"
      ],
      "execution_count": null,
      "outputs": []
    },
    {
      "cell_type": "markdown",
      "metadata": {
        "id": "qOb0H6Ai6Veq"
      },
      "source": [
        "Let's hear the song"
      ]
    },
    {
      "cell_type": "code",
      "metadata": {
        "id": "s0aXyjZaIOIM"
      },
      "source": [
        "Audio(song, rate=fs)"
      ],
      "execution_count": null,
      "outputs": []
    },
    {
      "cell_type": "markdown",
      "metadata": {
        "id": "fb4pfODh6U28"
      },
      "source": [
        "Now let's hear the noisy signal "
      ]
    },
    {
      "cell_type": "code",
      "metadata": {
        "id": "HAgrtuVpN3yx"
      },
      "source": [
        "Audio(noisy_song, rate=fs)"
      ],
      "execution_count": null,
      "outputs": []
    },
    {
      "cell_type": "markdown",
      "metadata": {
        "id": "VOvBhht9sP0S"
      },
      "source": [
        "##helper functions for creating plots and displaying them"
      ]
    },
    {
      "cell_type": "code",
      "metadata": {
        "id": "dmZf5a3b0rL1"
      },
      "source": [
        "def draw_spectrogram(time,freq,magnitude,title,cmap='inferno'):\n",
        "  \"\"\"\n",
        "  Plots the spectrogram from the magnitude of the stft.\n",
        "  \"\"\"\n",
        "  plt.rcParams['figure.figsize']=[10,5]\n",
        "  plt.rcParams.update({'font.size':10})\n",
        "  cmap = plt.get_cmap('inferno')\n",
        "  plt.pcolormesh(time, freq, magnitude, shading='gouraud',cmap=cmap)\n",
        "  plt.ylim([freq[1], freq[-1]])\n",
        "  plt.title('Spectrogram of '+title)\n",
        "  plt.ylabel('Frequency [Hz]')\n",
        "  plt.xlabel('Time [sec]')\n",
        "  plt.colorbar() \n",
        "\n",
        "def draw_timeseries(input_signal,time):\n",
        "  \"\"\"\n",
        "  plots the audio signal\n",
        "  \"\"\"\n",
        "  plt.rcParams['figure.figsize']=[10,5]\n",
        "  plt.rcParams.update({'font.size':10})\n",
        "  plt.plot(time,input_signal,color='c',Linewidth=1.5,label=\"input\")\n",
        "  plt.xlim=(time[0],time[-1])\n",
        "  plt.title('Signal')\n",
        "  plt.ylabel('Amplitude')\n",
        "  plt.xlabel('Time[sec]')\n"
      ],
      "execution_count": null,
      "outputs": []
    },
    {
      "cell_type": "markdown",
      "metadata": {
        "id": "aGBqtdT56m0x"
      },
      "source": [
        "## Spectrograms of the song and noisy song we created.\n",
        "We can create spectrograms of the audio signal by taking the STFT(short time fourier transform) of the signal and plotting just the magnitude of this complex valued function(Zxx)."
      ]
    },
    {
      "cell_type": "code",
      "metadata": {
        "id": "2y1qN9_EJZuM"
      },
      "source": [
        "nperseg = 512                                             # no. of samples in a segment\n",
        "\n",
        "freq, ti, Zxx = signal.stft(song, fs=fs, nperseg=nperseg) #STFT function\n",
        "\n",
        "draw_spectrogram(ti,freq,np.abs(Zxx),'song')              # we use our helper function to draw the spectrogram"
      ],
      "execution_count": null,
      "outputs": []
    },
    {
      "cell_type": "code",
      "metadata": {
        "id": "M3NMJ3PoN-Ef"
      },
      "source": [
        "nperseg = 512\n",
        "\n",
        "freq, ti, Zxx = signal.stft(noisy_song, fs=fs, nperseg=nperseg)\n",
        "\n",
        "draw_spectrogram(ti,freq,np.abs(Zxx),'noisy song')"
      ],
      "execution_count": null,
      "outputs": []
    },
    {
      "cell_type": "markdown",
      "metadata": {
        "id": "33MwiCbW60TM"
      },
      "source": [
        "Zxx is a complex valued signal(stft of the audio signal) whose magnitude we plot as the spectrogram.\n",
        "By comparing the spectrograms of the original and noisy audio signals, we see that if we can filter out just the bright parts, we can reconstruct the original without any of the noise."
      ]
    },
    {
      "cell_type": "markdown",
      "metadata": {
        "id": "S18HG-PmDRYu"
      },
      "source": [
        "## Denoise function\n",
        "We need to make a function that takes in the complex valued Zxx and gives out the complex valued Rxx as the recovered stft signal, with which we can then do inverse stft to get our final recovered denoised audio signal.\n",
        "\n",
        "There are 4 steps in the process:\n",
        "* Create a grayscale image from the magnitude of Zxx.\n",
        "* Apply binary thresholding.\n",
        "* Apply morphological processing to get the mask image.\n",
        "* Using this mask image we create Rxx."
      ]
    },
    {
      "cell_type": "code",
      "metadata": {
        "id": "_ezXrSjqnxFn"
      },
      "source": [
        "def morph_denoise(Zxx,threshold,amp):\n",
        "  \n",
        "  zmax=(np.max(np.abs(Zxx)))\n",
        "  \n",
        "  gray_image=np.abs(Zxx)*(255/zmax)\n",
        "  \n",
        "  thresh_image=np.where(gray_image>=threshold,1,0)# binary thresholding\n",
        "\n",
        "  mask_image = binary_erosion(thresh_image,iterations=1)\n",
        "  mask_image = binary_dilation(mask_image,iterations=2)\n",
        "\n",
        "\n",
        "  figure ,axis_arr = plt.subplots(1,3)\n",
        "  plt.rcParams['figure.figsize']=[15,10]\n",
        "  plt.rcParams.update({'font.size':10})\n",
        "  axis_arr[0].set_title(\"grayscale spectrogram\")\n",
        "  axis_arr[0].imshow(gray_image,cmap=plt.cm.gray)\n",
        "  axis_arr[1].set_title(\"After binary thresholding\")\n",
        "  axis_arr[1].imshow(thresh_image,cmap=plt.cm.gray)\n",
        "  axis_arr[2].set_title(\"After Morphological filtering\")\n",
        "  axis_arr[2].imshow(mask_image,cmap=plt.cm.gray)\n",
        "  Rxx = np.where(mask_image==1,Zxx*amp ,Zxx/amp)\n",
        "  \n",
        "  return Rxx\n"
      ],
      "execution_count": null,
      "outputs": []
    },
    {
      "cell_type": "markdown",
      "metadata": {
        "id": "RNHRCPbHkgJV"
      },
      "source": [
        "Now let's apply the denoise function on Zxx to get Rxx."
      ]
    },
    {
      "cell_type": "code",
      "metadata": {
        "id": "y49ySITbezbs"
      },
      "source": [
        "Rxx=morph_denoise(Zxx,threshold=40,amp=10)\n"
      ],
      "execution_count": null,
      "outputs": []
    },
    {
      "cell_type": "markdown",
      "metadata": {
        "id": "JJrSYWIybIEz"
      },
      "source": [
        "The image we process looks different from the spectrogram because the axis are flipped(image indices start from 0 from the top). But that doesn't affect the processing.\n",
        " \n",
        "Let's take a look at the spectrogram of the recovered signal."
      ]
    },
    {
      "cell_type": "code",
      "metadata": {
        "id": "ncYGjXUuff--"
      },
      "source": [
        "draw_spectrogram(ti,freq,np.abs(Rxx),'recovered song')"
      ],
      "execution_count": null,
      "outputs": []
    },
    {
      "cell_type": "markdown",
      "metadata": {
        "id": "HULimF_HWwI8"
      },
      "source": [
        "Now let's reconstruct the audio signal from Rxx by applying inverse short time fourier transform."
      ]
    },
    {
      "cell_type": "code",
      "metadata": {
        "id": "1kZuWpsLfcbD"
      },
      "source": [
        "_, xrec = signal.istft(Rxx, fs)\n",
        "\n",
        "Audio(xrec, rate=fs)"
      ],
      "execution_count": null,
      "outputs": []
    },
    {
      "cell_type": "markdown",
      "metadata": {
        "id": "fMQrZhXVxRR5"
      },
      "source": [
        "## Applications\n",
        "This project was part of a bigger project called \"Visual Mic\", where we extract audio from motion due to vibrations caused by sound waves on materials.\n",
        "Here is the link to the project: https://github.com/joeljose/Visual-Mic </br>  This denoising algorithm was effective in extracting out the signal from the noisy audio. First let me show you the audio which we got from visual mic.\n"
      ]
    },
    {
      "cell_type": "markdown",
      "metadata": {
        "id": "it2iV5_Z4RL-"
      },
      "source": [
        "Let's get the audio file from my github repository "
      ]
    },
    {
      "cell_type": "code",
      "metadata": {
        "id": "ajTKWsBp86W8"
      },
      "source": [
        "!wget https://github.com/joeljose/assets/raw/master/audio_denoising/visualmic.wav"
      ],
      "execution_count": null,
      "outputs": []
    },
    {
      "cell_type": "markdown",
      "metadata": {
        "id": "W1JzDUWw0Adz"
      },
      "source": [
        "Now lets load the audio file, print details about it and also plot the audio waveform."
      ]
    },
    {
      "cell_type": "code",
      "metadata": {
        "id": "EnS7e2GclOTv"
      },
      "source": [
        "noisy_signal,fs =librosa.load(\"visualmic.wav\",sr=None)\n",
        "\n",
        "n=len(noisy_signal)\n",
        "dt=1/fs\n",
        "tot_time=np.floor(n*dt)\n",
        "print(f'Total playback time :{tot_time} seconds')\n",
        "print(f'Total no. of samples :{n}')\n",
        "print(f'Sampling frequency :{fs} Hz')\n",
        "\n",
        "\n",
        "t=np.arange(0,tot_time,dt)\n",
        "\n",
        "# Plot the signal \n",
        "\n",
        "draw_timeseries(noisy_signal,t)\n"
      ],
      "execution_count": null,
      "outputs": []
    },
    {
      "cell_type": "markdown",
      "metadata": {
        "id": "dciND1G2KzO3"
      },
      "source": [
        "Let's hear it"
      ]
    },
    {
      "cell_type": "code",
      "metadata": {
        "id": "Q6NTnVVmK4Hv"
      },
      "source": [
        "Audio(noisy_signal,rate=fs)"
      ],
      "execution_count": null,
      "outputs": []
    },
    {
      "cell_type": "markdown",
      "metadata": {
        "id": "DxcgC057LDCi"
      },
      "source": [
        "Let's also look at it's spectrogram"
      ]
    },
    {
      "cell_type": "code",
      "metadata": {
        "id": "cOmWfHsqKR18"
      },
      "source": [
        "nperseg = 512\n",
        "\n",
        "freq, ti, Zxx = signal.stft(noisy_signal, fs=fs, nperseg=nperseg)\n",
        "\n",
        "draw_spectrogram(ti,freq,np.abs(Zxx),'noisy signal obtained from visual mic')"
      ],
      "execution_count": null,
      "outputs": []
    },
    {
      "cell_type": "markdown",
      "metadata": {
        "id": "kVUGU7FWLVt5"
      },
      "source": [
        "Now let's apply the denoise function on Zxx to get Rxx."
      ]
    },
    {
      "cell_type": "code",
      "metadata": {
        "id": "-Nv5StCULVt7"
      },
      "source": [
        "Rxx=morph_denoise(Zxx,threshold=20,amp=10)\n"
      ],
      "execution_count": null,
      "outputs": []
    },
    {
      "cell_type": "markdown",
      "metadata": {
        "id": "gEJmknOdLmRw"
      },
      "source": [
        "Let's take a look at the spectrogram of the recovered signal."
      ]
    },
    {
      "cell_type": "code",
      "metadata": {
        "id": "s8jR9qp1LmR2"
      },
      "source": [
        "draw_spectrogram(ti,freq,np.abs(Rxx),'recovered song')"
      ],
      "execution_count": null,
      "outputs": []
    },
    {
      "cell_type": "markdown",
      "metadata": {
        "id": "2o_G_xj9LmR6"
      },
      "source": [
        "Now let's reconstruct the audio signal from Rxx by applying inverse short time fourier transform."
      ]
    },
    {
      "cell_type": "code",
      "metadata": {
        "id": "ZvuzM-CWLmR-"
      },
      "source": [
        "_, xrec = signal.istft(Rxx, fs)\n",
        "\n",
        "Audio(xrec, rate=fs)"
      ],
      "execution_count": null,
      "outputs": []
    },
    {
      "cell_type": "markdown",
      "metadata": {
        "id": "HWwE3GNl3jRP"
      },
      "source": [
        "The reconstructed audio is a much more clear audio of \"mary had a little lamb\".\n"
      ]
    }
  ]
}